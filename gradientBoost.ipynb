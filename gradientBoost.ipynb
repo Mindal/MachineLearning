{
 "metadata": {
  "name": "",
  "signature": "sha256:5d2fb31de4be6fa23c8a99e51b30fb50c168d682cc67bb061bb5b51e44c7dddb"
 },
 "nbformat": 3,
 "nbformat_minor": 0,
 "worksheets": [
  {
   "cells": [
    {
     "cell_type": "code",
     "collapsed": false,
     "input": [
      "from sklearn.datasets import load_boston\n",
      "from sklearn.tree import DecisionTreeRegressor\n",
      "from sklearn.metrics import mean_squared_error as mse\n",
      "import numpy as np"
     ],
     "language": "python",
     "metadata": {},
     "outputs": [],
     "prompt_number": 85
    },
    {
     "cell_type": "code",
     "collapsed": false,
     "input": [
      "dataset = load_boston()\n",
      "L = len(dataset.data)\n",
      "X_train = dataset.data[:0.75 * L]\n",
      "y_train = dataset.target[:0.75 * L]\n",
      "X_test = dataset.data[0.75 * L:]\n",
      "y_test = dataset.target[0.75 * L:]"
     ],
     "language": "python",
     "metadata": {},
     "outputs": [],
     "prompt_number": 86
    },
    {
     "cell_type": "code",
     "collapsed": false,
     "input": [
      "print 0.75 * L"
     ],
     "language": "python",
     "metadata": {},
     "outputs": [
      {
       "output_type": "stream",
       "stream": "stdout",
       "text": [
        "379.5\n"
       ]
      }
     ],
     "prompt_number": 89
    },
    {
     "cell_type": "code",
     "collapsed": false,
     "input": [
      "def gbm_predict(X):\n",
      "    return [sum([coeff * algo.predict([x])[0] for algo, coeff in zip(base_algorithms_list, coefficients_list)]) for x in X]"
     ],
     "language": "python",
     "metadata": {},
     "outputs": [],
     "prompt_number": 87
    },
    {
     "cell_type": "code",
     "collapsed": false,
     "input": [
      "coefficients_list = []\n",
      "base_algorithms_list = []\n",
      "for i in range(50):\n",
      "    coefficients_list.append(0.9)\n",
      "    regressor = DecisionTreeRegressor(max_depth=5, random_state=42)\n",
      "    regressor.fit(X_train, y_train - gbm_predict(X_train))\n",
      "    base_algorithms_list.append(regressor)    \n",
      "print mse(y_test, gbm_predict(X_test)) ** 0.5"
     ],
     "language": "python",
     "metadata": {},
     "outputs": [
      {
       "output_type": "stream",
       "stream": "stdout",
       "text": [
        "5.85845583612\n"
       ]
      }
     ],
     "prompt_number": 90
    },
    {
     "cell_type": "code",
     "collapsed": false,
     "input": [
      "coefficients_list = []\n",
      "base_algorithms_list = []\n",
      "for i in range(50):\n",
      "    coefficients_list.append(0.9 / (1.0 + i))\n",
      "    regressor = DecisionTreeRegressor(max_depth=5, random_state=42)\n",
      "    regressor.fit(X_train, y_train - gbm_predict(X_train))\n",
      "    base_algorithms_list.append(regressor)    \n",
      "mse(y_test, gbm_predict(X_test)) ** 0.5"
     ],
     "language": "python",
     "metadata": {},
     "outputs": [
      {
       "metadata": {},
       "output_type": "pyout",
       "prompt_number": 82,
       "text": [
        "5.2441233712939024"
       ]
      }
     ],
     "prompt_number": 82
    },
    {
     "cell_type": "code",
     "collapsed": false,
     "input": [
      "from sklearn.linear_model import LinearRegression\n",
      "regression = LinearRegression()\n",
      "regression.fit(X_train, y_train)\n",
      "mse(y_test, regression.predict(X_test)) ** 0.5"
     ],
     "language": "python",
     "metadata": {},
     "outputs": [
      {
       "metadata": {},
       "output_type": "pyout",
       "prompt_number": 97,
       "text": [
        "8.2704680349381601"
       ]
      }
     ],
     "prompt_number": 97
    },
    {
     "cell_type": "raw",
     "metadata": {},
     "source": [
      "\u0421 \u0443\u0432\u0435\u043b\u0438\u0447\u0435\u043d\u0438\u0435\u043c \u0447\u0438\u0441\u043b\u0430 \u0434\u0435\u0440\u0435\u0432\u044c\u0435\u0432 \u043d\u0430\u0447\u0438\u043d\u0430\u044f \u0441 \u043d\u0435\u043a\u043e\u0442\u043e\u0440\u043e\u0433\u043e \u043c\u043e\u043c\u0435\u043d\u0442\u0430 \u043a\u0430\u0447\u0435\u0441\u0442\u0432\u043e \u0440\u0430\u0431\u043e\u0442\u044b \u0433\u0440\u0430\u0434\u0438\u0435\u043d\u0442\u043d\u043e\u0433\u043e \u0431\u0443\u0441\u0442\u0438\u043d\u0433\u0430 \u043c\u0435\u043d\u044f\u0435\u0442\u0441\u044f, \u043c\u043e\u0434\u0435\u043b\u044c \u043f\u0435\u0440\u0435\u043e\u0431\u0443\u0447\u0430\u0435\u0442\u0441\u044f, \u043a\u0430\u0447\u0435\u0441\u0442\u0432\u043e \u0440\u0430\u0431\u043e\u0442\u044b \u043d\u0430 \u0442\u0435\u0441\u0442\u043e\u0432\u043e\u0439 \u0432\u044b\u0431\u043e\u0440\u043a\u0435 \u0443\u0445\u0443\u0434\u0448\u0430\u0435\u0442\u0441\u044f, \u043e\u0434\u043d\u0430\u043a\u043e \u0435\u0441\u0442\u0435\u0441\u0442\u0432\u0435\u043d\u043d\u043e \u043c\u043e\u0436\u043d\u043e \u0434\u043e\u0431\u0438\u0442\u044c\u0441\u044f \u0438\u0434\u0435\u0430\u043b\u044c\u043d\u043e\u0433\u043e \u043a\u0430\u0447\u0435\u0441\u0442\u0432\u0430 \u0440\u0430\u0431\u043e\u0442\u044b \u043d\u0430 \u0442\u0440\u0435\u043d\u0438\u0440\u043e\u0432\u043e\u0447\u043d\u043e\u0439 \u0432\u044b\u0431\u043e\u0440\u043a\u0435"
     ]
    }
   ],
   "metadata": {}
  }
 ]
}